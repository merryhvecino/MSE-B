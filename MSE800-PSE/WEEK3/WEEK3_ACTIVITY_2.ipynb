{
 "cells": [
  {
   "cell_type": "code",
   "execution_count": 1,
   "id": "6e1a7795",
   "metadata": {},
   "outputs": [
    {
     "name": "stdout",
     "output_type": "stream",
     "text": [
      "The Rectangle Area is: 29.25 sq.units\n"
     ]
    }
   ],
   "source": [
    "length = 6.5\n",
    "width = 4.5\n",
    "\n",
    "def calculate_area(length, width):\n",
    "    \n",
    "    length = abs(length)\n",
    "    width = abs(width)\n",
    "\n",
    "    area = length * width\n",
    "\n",
    "    return round(area, 2)\n",
    "\n",
    "area = calculate_area(length, width)\n",
    "print(f\"The Rectangle Area is: {area} sq.units\")"
   ]
  }
 ],
 "metadata": {
  "kernelspec": {
   "display_name": "mse800",
   "language": "python",
   "name": "python3"
  },
  "language_info": {
   "codemirror_mode": {
    "name": "ipython",
    "version": 3
   },
   "file_extension": ".py",
   "mimetype": "text/x-python",
   "name": "python",
   "nbconvert_exporter": "python",
   "pygments_lexer": "ipython3",
   "version": "3.13.2"
  }
 },
 "nbformat": 4,
 "nbformat_minor": 5
}
