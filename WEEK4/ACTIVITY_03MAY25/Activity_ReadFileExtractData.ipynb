{
 "cells": [
  {
   "cell_type": "code",
   "execution_count": null,
   "id": "abcad00a",
   "metadata": {},
   "outputs": [],
   "source": [
    "import pandas as pd\n",
    "\n",
    "data_frame = pd.read_csv(\"WEEK4\\sample_junk_mail.csv\")\n",
    "first_two_records = data_frame.head(2)\n",
    "last_two_records = data_frame.tail(2)\n",
    "all_records = data_frame.tail()\n",
    "print(all_records.to_string())\n",
    "print(first_two_records.to_string())\n",
    "print(last_two_records.to_string())"
   ]
  }
 ],
 "metadata": {
  "language_info": {
   "name": "python"
  }
 },
 "nbformat": 4,
 "nbformat_minor": 5
}
